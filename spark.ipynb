{
  "nbformat": 4,
  "nbformat_minor": 0,
  "metadata": {
    "colab": {
      "provenance": []
    },
    "kernelspec": {
      "name": "python3",
      "display_name": "Python 3"
    },
    "language_info": {
      "name": "python"
    },
    "gpuClass": "standard"
  },
  "cells": [
    {
      "cell_type": "code",
      "execution_count": null,
      "metadata": {
        "colab": {
          "base_uri": "https://localhost:8080/"
        },
        "id": "YJNvqOR-fghK",
        "outputId": "a40e351c-8df6-476e-cd4d-8419d822d2c8"
      },
      "outputs": [
        {
          "output_type": "stream",
          "name": "stdout",
          "text": [
            "Looking in indexes: https://pypi.org/simple, https://us-python.pkg.dev/colab-wheels/public/simple/\n",
            "Collecting pyspark\n",
            "  Downloading pyspark-3.3.2.tar.gz (281.4 MB)\n",
            "\u001b[2K     \u001b[90m━━━━━━━━━━━━━━━━━━━━━━━━━━━━━━━━━━━━━━━\u001b[0m \u001b[32m281.4/281.4 MB\u001b[0m \u001b[31m4.2 MB/s\u001b[0m eta \u001b[36m0:00:00\u001b[0m\n",
            "\u001b[?25h  Preparing metadata (setup.py) ... \u001b[?25l\u001b[?25hdone\n",
            "Collecting py4j==0.10.9.5\n",
            "  Downloading py4j-0.10.9.5-py2.py3-none-any.whl (199 kB)\n",
            "\u001b[2K     \u001b[90m━━━━━━━━━━━━━━━━━━━━━━━━━━━━━━━━━━━━━━\u001b[0m \u001b[32m199.7/199.7 KB\u001b[0m \u001b[31m20.7 MB/s\u001b[0m eta \u001b[36m0:00:00\u001b[0m\n",
            "\u001b[?25hBuilding wheels for collected packages: pyspark\n",
            "  Building wheel for pyspark (setup.py) ... \u001b[?25l\u001b[?25hdone\n",
            "  Created wheel for pyspark: filename=pyspark-3.3.2-py2.py3-none-any.whl size=281824025 sha256=c5c45eed5f925d71e311f6a0e7b9c26b868dad6dbaa9aecb600da3e7f6afed7f\n",
            "  Stored in directory: /root/.cache/pip/wheels/b1/59/a0/a1a0624b5e865fd389919c1a10f53aec9b12195d6747710baf\n",
            "Successfully built pyspark\n",
            "Installing collected packages: py4j, pyspark\n",
            "Successfully installed py4j-0.10.9.5 pyspark-3.3.2\n"
          ]
        }
      ],
      "source": [
        "!pip install pyspark"
      ]
    },
    {
      "cell_type": "code",
      "source": [
        "import pyspark\n",
        "from pyspark.sql import SparkSession\n",
        "from pyspark.sql.types import *\n",
        "from pyspark.sql.functions import sum, max, col"
      ],
      "metadata": {
        "id": "Toc-tRKti4jI"
      },
      "execution_count": null,
      "outputs": []
    },
    {
      "cell_type": "code",
      "source": [
        "# Creating spark session\n",
        "spark = SparkSession.builder.appName('Covid19').getOrCreate()"
      ],
      "metadata": {
        "id": "dQYEj4Z-jwEd"
      },
      "execution_count": null,
      "outputs": []
    },
    {
      "cell_type": "code",
      "source": [
        "#1) Defining schema\n",
        "myschema = StructType([ \\\n",
        "    StructField(\"date\", DateType(), True), \\\n",
        "    StructField(\"county\", StringType(), True), \\\n",
        "    StructField(\"state\", StringType(), True), \\\n",
        "    StructField(\"fips\", IntegerType(), True), \\\n",
        "    StructField(\"cases\", IntegerType(), True), \\\n",
        "    StructField(\"deaths\", IntegerType(), True), \\\n",
        "])"
      ],
      "metadata": {
        "id": "LjsooOZylVqw"
      },
      "execution_count": null,
      "outputs": []
    },
    {
      "cell_type": "code",
      "source": [
        "# Reading in data\n",
        "counties = spark.read.format('csv').option('header', 'true').schema(myschema).load('/content/drive/MyDrive/us-counties.csv')\n",
        "counties.show(10)\n",
        "counties.printSchema()"
      ],
      "metadata": {
        "colab": {
          "base_uri": "https://localhost:8080/"
        },
        "id": "ABajv0RVmH1w",
        "outputId": "690aae60-b4c6-4328-968f-793006a53091"
      },
      "execution_count": null,
      "outputs": [
        {
          "output_type": "stream",
          "name": "stdout",
          "text": [
            "+----------+-----------+----------+-----+-----+------+\n",
            "|      date|     county|     state| fips|cases|deaths|\n",
            "+----------+-----------+----------+-----+-----+------+\n",
            "|2020-01-21|  Snohomish|Washington|53061|    1|     0|\n",
            "|2020-01-22|  Snohomish|Washington|53061|    1|     0|\n",
            "|2020-01-23|  Snohomish|Washington|53061|    1|     0|\n",
            "|2020-01-24|       Cook|  Illinois|17031|    1|     0|\n",
            "|2020-01-24|  Snohomish|Washington|53061|    1|     0|\n",
            "|2020-01-25|     Orange|California| 6059|    1|     0|\n",
            "|2020-01-25|       Cook|  Illinois|17031|    1|     0|\n",
            "|2020-01-25|  Snohomish|Washington|53061|    1|     0|\n",
            "|2020-01-26|   Maricopa|   Arizona| 4013|    1|     0|\n",
            "|2020-01-26|Los Angeles|California| 6037|    1|     0|\n",
            "+----------+-----------+----------+-----+-----+------+\n",
            "only showing top 10 rows\n",
            "\n",
            "root\n",
            " |-- date: date (nullable = true)\n",
            " |-- county: string (nullable = true)\n",
            " |-- state: string (nullable = true)\n",
            " |-- fips: integer (nullable = true)\n",
            " |-- cases: integer (nullable = true)\n",
            " |-- deaths: integer (nullable = true)\n",
            "\n"
          ]
        }
      ]
    },
    {
      "cell_type": "code",
      "source": [
        "#2) County with most deaths\n",
        "counties.select('county', 'state', 'deaths').orderBy('deaths', ascending=False).show(1)"
      ],
      "metadata": {
        "colab": {
          "base_uri": "https://localhost:8080/"
        },
        "id": "ZEe0Nf3Tm29h",
        "outputId": "c6cc397d-9849-47ba-e370-fe83abb89f8a"
      },
      "execution_count": null,
      "outputs": [
        {
          "output_type": "stream",
          "name": "stdout",
          "text": [
            "+-------------+--------+------+\n",
            "|       county|   state|deaths|\n",
            "+-------------+--------+------+\n",
            "|New York City|New York| 40267|\n",
            "+-------------+--------+------+\n",
            "only showing top 1 row\n",
            "\n"
          ]
        }
      ]
    },
    {
      "cell_type": "code",
      "source": [
        "#3) County with most cases\n",
        "counties.select('county', 'state', 'cases').orderBy('cases', ascending=False).show(1)"
      ],
      "metadata": {
        "colab": {
          "base_uri": "https://localhost:8080/"
        },
        "id": "Wdoie_DLlPox",
        "outputId": "e2eeb9bc-6c33-4054-8202-15fc06834e65"
      },
      "execution_count": null,
      "outputs": [
        {
          "output_type": "stream",
          "name": "stdout",
          "text": [
            "+-----------+----------+-------+\n",
            "|     county|     state|  cases|\n",
            "+-----------+----------+-------+\n",
            "|Los Angeles|California|2908425|\n",
            "+-----------+----------+-------+\n",
            "only showing top 1 row\n",
            "\n"
          ]
        }
      ]
    },
    {
      "cell_type": "code",
      "source": [
        "#4) Deaths in utah county\n",
        "counties.select('county', 'state', 'deaths').filter(counties.county == 'Utah').orderBy('cases', ascending=False).show(1)"
      ],
      "metadata": {
        "colab": {
          "base_uri": "https://localhost:8080/"
        },
        "id": "YAnJeDzKndy7",
        "outputId": "d01d1dcc-5589-4168-de2e-db9bfae93800"
      },
      "execution_count": null,
      "outputs": [
        {
          "output_type": "stream",
          "name": "stdout",
          "text": [
            "+------+-----+------+\n",
            "|county|state|deaths|\n",
            "+------+-----+------+\n",
            "|  Utah| Utah|   791|\n",
            "+------+-----+------+\n",
            "only showing top 1 row\n",
            "\n"
          ]
        }
      ]
    },
    {
      "cell_type": "code",
      "source": [
        "#5) Death rate in states\n",
        "df = counties.groupBy('county', 'state').agg(max('cases').alias('CountyCases'), max('deaths').alias('CountyDeaths'))\n",
        "df.groupBy('state') \\\n",
        "  .agg(sum('CountyCases').alias('AllCases'), sum('CountyDeaths').alias('AllDeaths')) \\\n",
        "  .withColumn('DeathRate', (col('AllDeaths') / col('AllCases'))) \\\n",
        "  .orderBy('DeathRate', ascending=False).show()"
      ],
      "metadata": {
        "colab": {
          "base_uri": "https://localhost:8080/"
        },
        "id": "7XdHTiP8oHP1",
        "outputId": "6b749b83-0527-48d6-818a-59033904536b"
      },
      "execution_count": null,
      "outputs": [
        {
          "output_type": "stream",
          "name": "stdout",
          "text": [
            "+-------------+--------+---------+--------------------+\n",
            "|        state|AllCases|AllDeaths|           DeathRate|\n",
            "+-------------+--------+---------+--------------------+\n",
            "| Pennsylvania| 2850361|    44816| 0.01572292071074506|\n",
            "|  Mississippi|  801527|    12509|0.015606461167247017|\n",
            "|      Alabama| 1304721|    19629|0.015044595741158455|\n",
            "|      Arizona| 2030944|    30242|0.014890612444262373|\n",
            "|       Nevada|  745456|    10980|0.014729239552703312|\n",
            "|      Georgia| 2497983|    36748| 0.01471106889038076|\n",
            "|     Michigan| 2472824|    36153|0.014620126624458513|\n",
            "|   New Jersey| 2316898|    33632|0.014515960564513415|\n",
            "|   New Mexico|  526500|     7627|0.014486229819563153|\n",
            "|         Ohio| 2725342|    38572|0.014153086108092123|\n",
            "|     Missouri| 1461727|    20588|0.014084709388278386|\n",
            "|  Connecticut|  779948|    10926|0.014008626216106716|\n",
            "|      Indiana| 1717471|    23664|0.013778398587225054|\n",
            "|    Louisiana| 1276677|    17533| 0.01373330920820223|\n",
            "|West Virginia|  505532|     6928|0.013704374797243301|\n",
            "|     Arkansas|  838256|    11418|0.013621137218224505|\n",
            "|      Florida| 6329181|    85864|0.013566368223629567|\n",
            "|Massachusetts| 1809309|    23838|0.013175195613352944|\n",
            "|     Maryland| 1128314|    14833|0.013146163213431723|\n",
            "|     New York| 5267378|    69108|0.013120000121502577|\n",
            "+-------------+--------+---------+--------------------+\n",
            "only showing top 20 rows\n",
            "\n"
          ]
        }
      ]
    },
    {
      "cell_type": "code",
      "source": [
        "#6) Counties in utah with the most deaths\n",
        "counties.filter(counties.state == 'Utah').groupBy('county').agg(max(counties.deaths).alias('CountyDeaths')).orderBy('CountyDeaths', ascending=False).show()\n"
      ],
      "metadata": {
        "colab": {
          "base_uri": "https://localhost:8080/"
        },
        "id": "1khA__YtrkzC",
        "outputId": "d2618ebd-3fe2-4fce-dfce-2eb0f39e8a5f"
      },
      "execution_count": null,
      "outputs": [
        {
          "output_type": "stream",
          "name": "stdout",
          "text": [
            "+----------+------------+\n",
            "|    county|CountyDeaths|\n",
            "+----------+------------+\n",
            "| Salt Lake|        1638|\n",
            "|      Utah|         791|\n",
            "|Washington|         463|\n",
            "|     Weber|         443|\n",
            "|     Davis|         404|\n",
            "| Box Elder|         124|\n",
            "|     Cache|         109|\n",
            "|    Tooele|         102|\n",
            "|   Unknown|          96|\n",
            "|      Iron|          92|\n",
            "|    Uintah|          72|\n",
            "|   Sanpete|          56|\n",
            "|  San Juan|          49|\n",
            "|    Carbon|          46|\n",
            "|   Millard|          35|\n",
            "|   Wasatch|          35|\n",
            "|    Sevier|          31|\n",
            "|     Emery|          28|\n",
            "|  Duchesne|          27|\n",
            "|    Summit|          26|\n",
            "+----------+------------+\n",
            "only showing top 20 rows\n",
            "\n"
          ]
        }
      ]
    }
  ]
}